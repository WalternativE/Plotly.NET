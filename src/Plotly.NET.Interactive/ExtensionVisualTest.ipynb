{
 "cells": [
  {
   "cell_type": "code",
   "execution_count": 1,
   "metadata": {},
   "source": [
    "#!fsharp\n",
    "#!pwsh\n",
    "\n",
    "# notebook paths should be absolute - change this for your setup\n",
    "$projectRootDir = \"/path/to/your/project/Plotly.NET\"\n",
    "cd $projectRootDir\n",
    "\n",
    "dotnet tool restore\n",
    "dotnet fake build\n",
    "# changing versions here if you try out a new version helps you to bust the nuget cache\n",
    "# you still have to restart your notebook kernel, though, if you already loaded a package\n",
    "dotnet paket pack --version 2.0.0-dev2 \"$projectRootDir/pkg\"\n",
    "\n",
    "ls \"$projectRootDir/pkg\""
   ],
   "outputs": [
    {
     "output_type": "execute_result",
     "data": {
      "text/plain": "Tool 'fake-cli' (version '5.20.3') was restored. Available commands: fake\n"
     },
     "execution_count": 1,
     "metadata": {}
    },
    {
     "output_type": "execute_result",
     "data": {
      "text/plain": "Tool 'paket' (version '5.249.2') was restored. Available commands: paket\n"
     },
     "execution_count": 1,
     "metadata": {}
    },
    {
     "output_type": "execute_result",
     "data": {
      "text/plain": "\n"
     },
     "execution_count": 1,
     "metadata": {}
    },
    {
     "output_type": "execute_result",
     "data": {
      "text/plain": "Restore was successful.\n"
     },
     "execution_count": 1,
     "metadata": {}
    },
    {
     "output_type": "execute_result",
     "data": {
      "text/plain": "The last restore is still up to date. Nothing left to do.\n"
     },
     "execution_count": 1,
     "metadata": {}
    },
    {
     "output_type": "execute_result",
     "data": {
      "text/plain": "run BuildOnly\n"
     },
     "execution_count": 1,
     "metadata": {}
    },
    {
     "output_type": "execute_result",
     "data": {
      "text/plain": "Building project with version: LocalBuild\n"
     },
     "execution_count": 1,
     "metadata": {}
    },
    {
     "output_type": "execute_result",
     "data": {
      "text/plain": "Shortened DependencyGraph for Target BuildOnly:\n"
     },
     "execution_count": 1,
     "metadata": {}
    },
    {
     "output_type": "execute_result",
     "data": {
      "text/plain": "<== BuildOnly\n"
     },
     "execution_count": 1,
     "metadata": {}
    },
    {
     "output_type": "execute_result",
     "data": {
      "text/plain": "   <== CopyBinaries\n"
     },
     "execution_count": 1,
     "metadata": {}
    },
    {
     "output_type": "execute_result",
     "data": {
      "text/plain": "      <== Build\n"
     },
     "execution_count": 1,
     "metadata": {}
    },
    {
     "output_type": "execute_result",
     "data": {
      "text/plain": "         <== AssemblyInfo\n"
     },
     "execution_count": 1,
     "metadata": {}
    },
    {
     "output_type": "execute_result",
     "data": {
      "text/plain": "            <== CleanDocs\n"
     },
     "execution_count": 1,
     "metadata": {}
    },
    {
     "output_type": "execute_result",
     "data": {
      "text/plain": "               <== Clean\n"
     },
     "execution_count": 1,
     "metadata": {}
    },
    {
     "output_type": "execute_result",
     "data": {
      "text/plain": "\n"
     },
     "execution_count": 1,
     "metadata": {}
    },
    {
     "output_type": "execute_result",
     "data": {
      "text/plain": "The running order is:\n"
     },
     "execution_count": 1,
     "metadata": {}
    },
    {
     "output_type": "execute_result",
     "data": {
      "text/plain": "Group - 1\n"
     },
     "execution_count": 1,
     "metadata": {}
    },
    {
     "output_type": "execute_result",
     "data": {
      "text/plain": "  - Clean\n"
     },
     "execution_count": 1,
     "metadata": {}
    },
    {
     "output_type": "execute_result",
     "data": {
      "text/plain": "Group - 2\n"
     },
     "execution_count": 1,
     "metadata": {}
    },
    {
     "output_type": "execute_result",
     "data": {
      "text/plain": "  - CleanDocs\n"
     },
     "execution_count": 1,
     "metadata": {}
    },
    {
     "output_type": "execute_result",
     "data": {
      "text/plain": "Group - 3\n"
     },
     "execution_count": 1,
     "metadata": {}
    },
    {
     "output_type": "execute_result",
     "data": {
      "text/plain": "  - AssemblyInfo\n"
     },
     "execution_count": 1,
     "metadata": {}
    },
    {
     "output_type": "execute_result",
     "data": {
      "text/plain": "Group - 4\n"
     },
     "execution_count": 1,
     "metadata": {}
    },
    {
     "output_type": "execute_result",
     "data": {
      "text/plain": "  - Build\n"
     },
     "execution_count": 1,
     "metadata": {}
    },
    {
     "output_type": "execute_result",
     "data": {
      "text/plain": "Group - 5\n"
     },
     "execution_count": 1,
     "metadata": {}
    },
    {
     "output_type": "execute_result",
     "data": {
      "text/plain": "  - CopyBinaries\n"
     },
     "execution_count": 1,
     "metadata": {}
    },
    {
     "output_type": "execute_result",
     "data": {
      "text/plain": "Group - 6\n"
     },
     "execution_count": 1,
     "metadata": {}
    },
    {
     "output_type": "execute_result",
     "data": {
      "text/plain": "  - BuildOnly\n"
     },
     "execution_count": 1,
     "metadata": {}
    },
    {
     "output_type": "execute_result",
     "data": {
      "text/plain": "Starting target 'Clean'\n"
     },
     "execution_count": 1,
     "metadata": {}
    },
    {
     "output_type": "execute_result",
     "data": {
      "text/plain": "Finished (TagStatus.Success) 'Clean' in 00:00:00.0244870\n"
     },
     "execution_count": 1,
     "metadata": {}
    },
    {
     "output_type": "execute_result",
     "data": {
      "text/plain": "Starting target 'CleanDocs'\n"
     },
     "execution_count": 1,
     "metadata": {}
    },
    {
     "output_type": "execute_result",
     "data": {
      "text/plain": "Finished (TagStatus.Success) 'CleanDocs' in 00:00:00.0005446\n"
     },
     "execution_count": 1,
     "metadata": {}
    },
    {
     "output_type": "execute_result",
     "data": {
      "text/plain": "Starting target 'AssemblyInfo'\n"
     },
     "execution_count": 1,
     "metadata": {}
    },
    {
     "output_type": "execute_result",
     "data": {
      "text/plain": "Finished (TagStatus.Success) 'AssemblyInfo' in 00:00:00.0386865\n"
     },
     "execution_count": 1,
     "metadata": {}
    },
    {
     "output_type": "execute_result",
     "data": {
      "text/plain": "Starting target 'Build'\n"
     },
     "execution_count": 1,
     "metadata": {}
    },
    {
     "output_type": "execute_result",
     "data": {
      "text/plain": "Starting task 'DotNet:build': Plotly.NET.sln\n"
     },
     "execution_count": 1,
     "metadata": {}
    },
    {
     "output_type": "execute_result",
     "data": {
      "text/plain": "> \"/usr/bin/mono\" --version (In: false, Out: true, Err: true)\n"
     },
     "execution_count": 1,
     "metadata": {}
    },
    {
     "output_type": "execute_result",
     "data": {
      "text/plain": "/home/gregor/source/repos/Plotly.NET> \"dotnet\"  msbuild /version /nologo (In: false, Out: true, Err: true)\n"
     },
     "execution_count": 1,
     "metadata": {}
    },
    {
     "output_type": "execute_result",
     "data": {
      "text/plain": "16.7.1.52103\n"
     },
     "execution_count": 1,
     "metadata": {}
    },
    {
     "output_type": "execute_result",
     "data": {
      "text/plain": "/home/gregor/source/repos/Plotly.NET> \"dotnet\"  build Plotly.NET.sln --configuration Release /bl:/tmp/tmpG9QHf1.tmp.binlog (In: false, Out: false, Err: false)\n"
     },
     "execution_count": 1,
     "metadata": {}
    },
    {
     "output_type": "execute_result",
     "data": {
      "text/plain": "Microsoft (R) Build Engine version 16.7.1+52cd83677 for .NET\n"
     },
     "execution_count": 1,
     "metadata": {}
    },
    {
     "output_type": "execute_result",
     "data": {
      "text/plain": "Copyright (C) Microsoft Corporation. All rights reserved.\n"
     },
     "execution_count": 1,
     "metadata": {}
    },
    {
     "output_type": "execute_result",
     "data": {
      "text/plain": "\n"
     },
     "execution_count": 1,
     "metadata": {}
    },
    {
     "output_type": "execute_result",
     "data": {
      "text/plain": "/usr/share/dotnet/sdk/3.1.404/MSBuild.dll -consoleloggerparameters:Summary -distributedlogger:Microsoft.DotNet.Tools.MSBuild.MSBuildLogger,/usr/share/dotnet/sdk/3.1.404/dotnet.dll*Microsoft.DotNet.Tools.MSBuild.MSBuildForwardingLogger,/usr/share/dotnet/sdk/3.1.404/dotnet.dll -maxcpucount -property:Configuration=Release -restore -verbosity:m /bl:/tmp/tmpG9QHf1.tmp.binlog Plotly.NET.sln\n"
     },
     "execution_count": 1,
     "metadata": {}
    },
    {
     "output_type": "execute_result",
     "data": {
      "text/plain": "  Determining projects to restore...\n"
     },
     "execution_count": 1,
     "metadata": {}
    },
    {
     "output_type": "execute_result",
     "data": {
      "text/plain": "/home/gregor/source/repos/Plotly.NET/tests/Plotly.NET.Tests/Plotly.NET.Tests.fsproj : warning NU1605: Detected package downgrade: FSharp.Core from 5.0 to 4.7.2. Reference the package directly from the project to select a different version.  [/home/gregor/source/repos/Plotly.NET/Plotly.NET.sln]\n"
     },
     "execution_count": 1,
     "metadata": {}
    },
    {
     "output_type": "execute_result",
     "data": {
      "text/plain": "/home/gregor/source/repos/Plotly.NET/tests/Plotly.NET.Tests/Plotly.NET.Tests.fsproj : warning NU1605:  Plotly.NET.Tests -> Plotly.NET -> FSharp.Core (>= 5.0.0)  [/home/gregor/source/repos/Plotly.NET/Plotly.NET.sln]\n"
     },
     "execution_count": 1,
     "metadata": {}
    },
    {
     "output_type": "execute_result",
     "data": {
      "text/plain": "/home/gregor/source/repos/Plotly.NET/tests/Plotly.NET.Tests/Plotly.NET.Tests.fsproj : warning NU1605:  Plotly.NET.Tests -> FSharp.Core (>= 4.7.2) [/home/gregor/source/repos/Plotly.NET/Plotly.NET.sln]\n"
     },
     "execution_count": 1,
     "metadata": {}
    },
    {
     "output_type": "execute_result",
     "data": {
      "text/plain": "  All projects are up-to-date for restore.\n"
     },
     "execution_count": 1,
     "metadata": {}
    },
    {
     "output_type": "execute_result",
     "data": {
      "text/plain": "/home/gregor/source/repos/Plotly.NET/tests/Plotly.NET.Tests/Plotly.NET.Tests.fsproj : warning NU1605: Detected package downgrade: FSharp.Core from 5.0 to 4.7.2. Reference the package directly from the project to select a different version. \n"
     },
     "execution_count": 1,
     "metadata": {}
    },
    {
     "output_type": "execute_result",
     "data": {
      "text/plain": "/home/gregor/source/repos/Plotly.NET/tests/Plotly.NET.Tests/Plotly.NET.Tests.fsproj : warning NU1605:  Plotly.NET.Tests -> Plotly.NET -> FSharp.Core (>= 5.0.0) \n"
     },
     "execution_count": 1,
     "metadata": {}
    },
    {
     "output_type": "execute_result",
     "data": {
      "text/plain": "/home/gregor/source/repos/Plotly.NET/tests/Plotly.NET.Tests/Plotly.NET.Tests.fsproj : warning NU1605:  Plotly.NET.Tests -> FSharp.Core (>= 4.7.2)\n"
     },
     "execution_count": 1,
     "metadata": {}
    },
    {
     "output_type": "execute_result",
     "data": {
      "text/plain": "/home/gregor/source/repos/Plotly.NET/src/Plotly.NET/Chart.fs(1296,33): warning FS0064: This construct causes code to be less generic than indicated by its type annotations. The type variable implied by the use of a '#', '_' or other type annotation at or near '/home/gregor/source/repos/Plotly.NET/src/Plotly.NET/Chart.fs(1286,45)-(1286,58)' has been constrained to be type 'string'. [/home/gregor/source/repos/Plotly.NET/src/Plotly.NET/Plotly.NET.fsproj]\n"
     },
     "execution_count": 1,
     "metadata": {}
    },
    {
     "output_type": "execute_result",
     "data": {
      "text/plain": "/home/gregor/source/repos/Plotly.NET/src/Plotly.NET/Chart.fs(1331,38): warning FS0064: This construct causes code to be less generic than indicated by its type annotations. The type variable implied by the use of a '#', '_' or other type annotation at or near '/home/gregor/source/repos/Plotly.NET/src/Plotly.NET/Chart.fs(1320,50)-(1320,63)' has been constrained to be type 'string'. [/home/gregor/source/repos/Plotly.NET/src/Plotly.NET/Plotly.NET.fsproj]\n"
     },
     "execution_count": 1,
     "metadata": {}
    },
    {
     "output_type": "execute_result",
     "data": {
      "text/plain": "/home/gregor/source/repos/Plotly.NET/src/Plotly.NET/CandelstickExtension.fs(32,50): warning FS0044: This construct is deprecated. this type will be removed in favor of the 'StockData' type in 2.0. [/home/gregor/source/repos/Plotly.NET/src/Plotly.NET/Plotly.NET.fsproj]\n"
     },
     "execution_count": 1,
     "metadata": {}
    },
    {
     "output_type": "execute_result",
     "data": {
      "text/plain": "/home/gregor/source/repos/Plotly.NET/src/Plotly.NET/CandelstickExtension.fs(32,50): warning FS0044: This construct is deprecated. this type will be removed in favor of the 'StockData' type in 2.0. [/home/gregor/source/repos/Plotly.NET/src/Plotly.NET/Plotly.NET.fsproj]\n"
     },
     "execution_count": 1,
     "metadata": {}
    },
    {
     "output_type": "execute_result",
     "data": {
      "text/plain": "/home/gregor/source/repos/Plotly.NET/src/Plotly.NET/CandelstickExtension.fs(39,74): warning FS0044: This construct is deprecated. this type will be removed in favor of the 'StockData' type in 2.0. [/home/gregor/source/repos/Plotly.NET/src/Plotly.NET/Plotly.NET.fsproj]\n"
     },
     "execution_count": 1,
     "metadata": {}
    },
    {
     "output_type": "execute_result",
     "data": {
      "text/plain": "/home/gregor/source/repos/Plotly.NET/src/Plotly.NET/CandelstickExtension.fs(40,74): warning FS0044: This construct is deprecated. this type will be removed in favor of the 'StockData' type in 2.0. [/home/gregor/source/repos/Plotly.NET/src/Plotly.NET/Plotly.NET.fsproj]\n"
     },
     "execution_count": 1,
     "metadata": {}
    },
    {
     "output_type": "execute_result",
     "data": {
      "text/plain": "/home/gregor/source/repos/Plotly.NET/src/Plotly.NET/CandelstickExtension.fs(41,74): warning FS0044: This construct is deprecated. this type will be removed in favor of the 'StockData' type in 2.0. [/home/gregor/source/repos/Plotly.NET/src/Plotly.NET/Plotly.NET.fsproj]\n"
     },
     "execution_count": 1,
     "metadata": {}
    },
    {
     "output_type": "execute_result",
     "data": {
      "text/plain": "/home/gregor/source/repos/Plotly.NET/src/Plotly.NET/CandelstickExtension.fs(42,74): warning FS0044: This construct is deprecated. this type will be removed in favor of the 'StockData' type in 2.0. [/home/gregor/source/repos/Plotly.NET/src/Plotly.NET/Plotly.NET.fsproj]\n"
     },
     "execution_count": 1,
     "metadata": {}
    },
    {
     "output_type": "execute_result",
     "data": {
      "text/plain": "  Plotly.NET -> /home/gregor/source/repos/Plotly.NET/src/Plotly.NET/bin/Release/netstandard2.0/Plotly.NET.dll\n"
     },
     "execution_count": 1,
     "metadata": {}
    },
    {
     "output_type": "execute_result",
     "data": {
      "text/plain": "/usr/share/dotnet/sdk/3.1.404/Microsoft.Common.CurrentVersion.targets(2084,5): warning MSB3277: Found conflicts between different versions of \"FSharp.Core\" that could not be resolved.  These reference conflicts are listed in the build log when log verbosity is set to detailed. [/home/gregor/source/repos/Plotly.NET/tests/Plotly.NET.Tests/Plotly.NET.Tests.fsproj]\n"
     },
     "execution_count": 1,
     "metadata": {}
    },
    {
     "output_type": "execute_result",
     "data": {
      "text/plain": "  Plotly.NET.Tests -> /home/gregor/source/repos/Plotly.NET/tests/Plotly.NET.Tests/bin/Release/netcoreapp3.1/Plotly.NET.Tests.dll\n"
     },
     "execution_count": 1,
     "metadata": {}
    },
    {
     "output_type": "execute_result",
     "data": {
      "text/plain": "  Plotly.NET.Interactive -> /home/gregor/source/repos/Plotly.NET/src/Plotly.NET.Interactive/bin/Release/netstandard2.1/Plotly.NET.Interactive.dll\n"
     },
     "execution_count": 1,
     "metadata": {}
    },
    {
     "output_type": "execute_result",
     "data": {
      "text/plain": "\n"
     },
     "execution_count": 1,
     "metadata": {}
    },
    {
     "output_type": "execute_result",
     "data": {
      "text/plain": "Build succeeded.\n"
     },
     "execution_count": 1,
     "metadata": {}
    },
    {
     "output_type": "execute_result",
     "data": {
      "text/plain": "\n"
     },
     "execution_count": 1,
     "metadata": {}
    },
    {
     "output_type": "execute_result",
     "data": {
      "text/plain": "/home/gregor/source/repos/Plotly.NET/tests/Plotly.NET.Tests/Plotly.NET.Tests.fsproj : warning NU1605: Detected package downgrade: FSharp.Core from 5.0 to 4.7.2. Reference the package directly from the project to select a different version.  [/home/gregor/source/repos/Plotly.NET/Plotly.NET.sln]\n"
     },
     "execution_count": 1,
     "metadata": {}
    },
    {
     "output_type": "execute_result",
     "data": {
      "text/plain": "/home/gregor/source/repos/Plotly.NET/tests/Plotly.NET.Tests/Plotly.NET.Tests.fsproj : warning NU1605:  Plotly.NET.Tests -> Plotly.NET -> FSharp.Core (>= 5.0.0)  [/home/gregor/source/repos/Plotly.NET/Plotly.NET.sln]\n"
     },
     "execution_count": 1,
     "metadata": {}
    },
    {
     "output_type": "execute_result",
     "data": {
      "text/plain": "/home/gregor/source/repos/Plotly.NET/tests/Plotly.NET.Tests/Plotly.NET.Tests.fsproj : warning NU1605:  Plotly.NET.Tests -> FSharp.Core (>= 4.7.2) [/home/gregor/source/repos/Plotly.NET/Plotly.NET.sln]\n"
     },
     "execution_count": 1,
     "metadata": {}
    },
    {
     "output_type": "execute_result",
     "data": {
      "text/plain": "/home/gregor/source/repos/Plotly.NET/tests/Plotly.NET.Tests/Plotly.NET.Tests.fsproj : warning NU1605: Detected package downgrade: FSharp.Core from 5.0 to 4.7.2. Reference the package directly from the project to select a different version. \n"
     },
     "execution_count": 1,
     "metadata": {}
    },
    {
     "output_type": "execute_result",
     "data": {
      "text/plain": "/home/gregor/source/repos/Plotly.NET/tests/Plotly.NET.Tests/Plotly.NET.Tests.fsproj : warning NU1605:  Plotly.NET.Tests -> Plotly.NET -> FSharp.Core (>= 5.0.0) \n"
     },
     "execution_count": 1,
     "metadata": {}
    },
    {
     "output_type": "execute_result",
     "data": {
      "text/plain": "/home/gregor/source/repos/Plotly.NET/tests/Plotly.NET.Tests/Plotly.NET.Tests.fsproj : warning NU1605:  Plotly.NET.Tests -> FSharp.Core (>= 4.7.2)\n"
     },
     "execution_count": 1,
     "metadata": {}
    },
    {
     "output_type": "execute_result",
     "data": {
      "text/plain": "/home/gregor/source/repos/Plotly.NET/src/Plotly.NET/Chart.fs(1296,33): warning FS0064: This construct causes code to be less generic than indicated by its type annotations. The type variable implied by the use of a '#', '_' or other type annotation at or near '/home/gregor/source/repos/Plotly.NET/src/Plotly.NET/Chart.fs(1286,45)-(1286,58)' has been constrained to be type 'string'. [/home/gregor/source/repos/Plotly.NET/src/Plotly.NET/Plotly.NET.fsproj]\n"
     },
     "execution_count": 1,
     "metadata": {}
    },
    {
     "output_type": "execute_result",
     "data": {
      "text/plain": "/home/gregor/source/repos/Plotly.NET/src/Plotly.NET/Chart.fs(1331,38): warning FS0064: This construct causes code to be less generic than indicated by its type annotations. The type variable implied by the use of a '#', '_' or other type annotation at or near '/home/gregor/source/repos/Plotly.NET/src/Plotly.NET/Chart.fs(1320,50)-(1320,63)' has been constrained to be type 'string'. [/home/gregor/source/repos/Plotly.NET/src/Plotly.NET/Plotly.NET.fsproj]\n"
     },
     "execution_count": 1,
     "metadata": {}
    },
    {
     "output_type": "execute_result",
     "data": {
      "text/plain": "/home/gregor/source/repos/Plotly.NET/src/Plotly.NET/CandelstickExtension.fs(32,50): warning FS0044: This construct is deprecated. this type will be removed in favor of the 'StockData' type in 2.0. [/home/gregor/source/repos/Plotly.NET/src/Plotly.NET/Plotly.NET.fsproj]\n"
     },
     "execution_count": 1,
     "metadata": {}
    },
    {
     "output_type": "execute_result",
     "data": {
      "text/plain": "/home/gregor/source/repos/Plotly.NET/src/Plotly.NET/CandelstickExtension.fs(32,50): warning FS0044: This construct is deprecated. this type will be removed in favor of the 'StockData' type in 2.0. [/home/gregor/source/repos/Plotly.NET/src/Plotly.NET/Plotly.NET.fsproj]\n"
     },
     "execution_count": 1,
     "metadata": {}
    },
    {
     "output_type": "execute_result",
     "data": {
      "text/plain": "/home/gregor/source/repos/Plotly.NET/src/Plotly.NET/CandelstickExtension.fs(39,74): warning FS0044: This construct is deprecated. this type will be removed in favor of the 'StockData' type in 2.0. [/home/gregor/source/repos/Plotly.NET/src/Plotly.NET/Plotly.NET.fsproj]\n"
     },
     "execution_count": 1,
     "metadata": {}
    },
    {
     "output_type": "execute_result",
     "data": {
      "text/plain": "/home/gregor/source/repos/Plotly.NET/src/Plotly.NET/CandelstickExtension.fs(40,74): warning FS0044: This construct is deprecated. this type will be removed in favor of the 'StockData' type in 2.0. [/home/gregor/source/repos/Plotly.NET/src/Plotly.NET/Plotly.NET.fsproj]\n"
     },
     "execution_count": 1,
     "metadata": {}
    },
    {
     "output_type": "execute_result",
     "data": {
      "text/plain": "/home/gregor/source/repos/Plotly.NET/src/Plotly.NET/CandelstickExtension.fs(41,74): warning FS0044: This construct is deprecated. this type will be removed in favor of the 'StockData' type in 2.0. [/home/gregor/source/repos/Plotly.NET/src/Plotly.NET/Plotly.NET.fsproj]\n"
     },
     "execution_count": 1,
     "metadata": {}
    },
    {
     "output_type": "execute_result",
     "data": {
      "text/plain": "/home/gregor/source/repos/Plotly.NET/src/Plotly.NET/CandelstickExtension.fs(42,74): warning FS0044: This construct is deprecated. this type will be removed in favor of the 'StockData' type in 2.0. [/home/gregor/source/repos/Plotly.NET/src/Plotly.NET/Plotly.NET.fsproj]\n"
     },
     "execution_count": 1,
     "metadata": {}
    },
    {
     "output_type": "execute_result",
     "data": {
      "text/plain": "/usr/share/dotnet/sdk/3.1.404/Microsoft.Common.CurrentVersion.targets(2084,5): warning MSB3277: Found conflicts between different versions of \"FSharp.Core\" that could not be resolved.  These reference conflicts are listed in the build log when log verbosity is set to detailed. [/home/gregor/source/repos/Plotly.NET/tests/Plotly.NET.Tests/Plotly.NET.Tests.fsproj]\n"
     },
     "execution_count": 1,
     "metadata": {}
    },
    {
     "output_type": "execute_result",
     "data": {
      "text/plain": "    11 Warning(s)\n"
     },
     "execution_count": 1,
     "metadata": {}
    },
    {
     "output_type": "execute_result",
     "data": {
      "text/plain": "    0 Error(s)\n"
     },
     "execution_count": 1,
     "metadata": {}
    },
    {
     "output_type": "execute_result",
     "data": {
      "text/plain": "\n"
     },
     "execution_count": 1,
     "metadata": {}
    },
    {
     "output_type": "execute_result",
     "data": {
      "text/plain": "Time Elapsed 00:00:12.74\n"
     },
     "execution_count": 1,
     "metadata": {}
    },
    {
     "output_type": "execute_result",
     "data": {
      "text/plain": "Finished (TagStatus.Success) 'DotNet:build' in 00:00:14.9011478\n"
     },
     "execution_count": 1,
     "metadata": {}
    },
    {
     "output_type": "execute_result",
     "data": {
      "text/plain": "Finished (TagStatus.Success) 'Build' in 00:00:14.9057694\n"
     },
     "execution_count": 1,
     "metadata": {}
    },
    {
     "output_type": "execute_result",
     "data": {
      "text/plain": "Starting target 'CopyBinaries'\n"
     },
     "execution_count": 1,
     "metadata": {}
    },
    {
     "output_type": "execute_result",
     "data": {
      "text/plain": "RestoreTask: /home/gregor/source/repos/Plotly.NET/tests/Plotly.NET.Tests/Plotly.NET.Tests.fsproj(0,0): warning NU1605: Detected package downgrade: FSharp.Core from 5.0 to 4.7.2. Reference the package directly from the project to select a different version. \n"
     },
     "execution_count": 1,
     "metadata": {}
    },
    {
     "output_type": "execute_result",
     "data": {
      "text/plain": " Plotly.NET.Tests -> Plotly.NET -> FSharp.Core (>= 5.0.0) \n"
     },
     "execution_count": 1,
     "metadata": {}
    },
    {
     "output_type": "execute_result",
     "data": {
      "text/plain": " Plotly.NET.Tests -> FSharp.Core (>= 4.7.2)\n"
     },
     "execution_count": 1,
     "metadata": {}
    },
    {
     "output_type": "execute_result",
     "data": {
      "text/plain": "ResolvePackageAssets: /home/gregor/source/repos/Plotly.NET/tests/Plotly.NET.Tests/Plotly.NET.Tests.fsproj(0,0): warning NU1605: Detected package downgrade: FSharp.Core from 5.0 to 4.7.2. Reference the package directly from the project to select a different version. \n"
     },
     "execution_count": 1,
     "metadata": {}
    },
    {
     "output_type": "execute_result",
     "data": {
      "text/plain": " Plotly.NET.Tests -> Plotly.NET -> FSharp.Core (>= 5.0.0) \n"
     },
     "execution_count": 1,
     "metadata": {}
    },
    {
     "output_type": "execute_result",
     "data": {
      "text/plain": " Plotly.NET.Tests -> FSharp.Core (>= 4.7.2)\n"
     },
     "execution_count": 1,
     "metadata": {}
    },
    {
     "output_type": "execute_result",
     "data": {
      "text/plain": "Fsc: /home/gregor/source/repos/Plotly.NET/src/Plotly.NET/Chart.fs(1296,33): warning FS0064: This construct causes code to be less generic than indicated by its type annotations. The type variable implied by the use of a '#', '_' or other type annotation at or near '/home/gregor/source/repos/Plotly.NET/src/Plotly.NET/Chart.fs(1286,45)-(1286,58)' has been constrained to be type 'string'.\n"
     },
     "execution_count": 1,
     "metadata": {}
    },
    {
     "output_type": "execute_result",
     "data": {
      "text/plain": "Fsc: /home/gregor/source/repos/Plotly.NET/src/Plotly.NET/Chart.fs(1331,38): warning FS0064: This construct causes code to be less generic than indicated by its type annotations. The type variable implied by the use of a '#', '_' or other type annotation at or near '/home/gregor/source/repos/Plotly.NET/src/Plotly.NET/Chart.fs(1320,50)-(1320,63)' has been constrained to be type 'string'.\n"
     },
     "execution_count": 1,
     "metadata": {}
    },
    {
     "output_type": "execute_result",
     "data": {
      "text/plain": "Fsc: /home/gregor/source/repos/Plotly.NET/src/Plotly.NET/CandelstickExtension.fs(32,50): warning FS0044: This construct is deprecated. this type will be removed in favor of the 'StockData' type in 2.0.\n"
     },
     "execution_count": 1,
     "metadata": {}
    },
    {
     "output_type": "execute_result",
     "data": {
      "text/plain": "Fsc: /home/gregor/source/repos/Plotly.NET/src/Plotly.NET/CandelstickExtension.fs(39,74): warning FS0044: This construct is deprecated. this type will be removed in favor of the 'StockData' type in 2.0.\n"
     },
     "execution_count": 1,
     "metadata": {}
    },
    {
     "output_type": "execute_result",
     "data": {
      "text/plain": "Fsc: /home/gregor/source/repos/Plotly.NET/src/Plotly.NET/CandelstickExtension.fs(40,74): warning FS0044: This construct is deprecated. this type will be removed in favor of the 'StockData' type in 2.0.\n"
     },
     "execution_count": 1,
     "metadata": {}
    },
    {
     "output_type": "execute_result",
     "data": {
      "text/plain": "Fsc: /home/gregor/source/repos/Plotly.NET/src/Plotly.NET/CandelstickExtension.fs(41,74): warning FS0044: This construct is deprecated. this type will be removed in favor of the 'StockData' type in 2.0.\n"
     },
     "execution_count": 1,
     "metadata": {}
    },
    {
     "output_type": "execute_result",
     "data": {
      "text/plain": "Fsc: /home/gregor/source/repos/Plotly.NET/src/Plotly.NET/CandelstickExtension.fs(42,74): warning FS0044: This construct is deprecated. this type will be removed in favor of the 'StockData' type in 2.0.\n"
     },
     "execution_count": 1,
     "metadata": {}
    },
    {
     "output_type": "execute_result",
     "data": {
      "text/plain": "ResolveAssemblyReference: /usr/share/dotnet/sdk/3.1.404/Microsoft.Common.CurrentVersion.targets(2084,5): warning MSB3277: Found conflicts between different versions of \"FSharp.Core\" that could not be resolved.  These reference conflicts are listed in the build log when log verbosity is set to detailed.\n"
     },
     "execution_count": 1,
     "metadata": {}
    },
    {
     "output_type": "execute_result",
     "data": {
      "text/plain": "Finished (TagStatus.Success) 'CopyBinaries' in 00:00:00.0623874\n"
     },
     "execution_count": 1,
     "metadata": {}
    },
    {
     "output_type": "execute_result",
     "data": {
      "text/plain": "Starting target 'BuildOnly'\n"
     },
     "execution_count": 1,
     "metadata": {}
    },
    {
     "output_type": "execute_result",
     "data": {
      "text/plain": "Finished (TagStatus.Success) 'BuildOnly' in 00:00:00.0003434\n"
     },
     "execution_count": 1,
     "metadata": {}
    },
    {
     "output_type": "execute_result",
     "data": {
      "text/plain": "\n"
     },
     "execution_count": 1,
     "metadata": {}
    },
    {
     "output_type": "execute_result",
     "data": {
      "text/plain": "---------------------------------------------------------------------\n"
     },
     "execution_count": 1,
     "metadata": {}
    },
    {
     "output_type": "execute_result",
     "data": {
      "text/plain": "Build Time Report\n"
     },
     "execution_count": 1,
     "metadata": {}
    },
    {
     "output_type": "execute_result",
     "data": {
      "text/plain": "---------------------------------------------------------------------\n"
     },
     "execution_count": 1,
     "metadata": {}
    },
    {
     "output_type": "execute_result",
     "data": {
      "text/plain": "Target         Duration\n"
     },
     "execution_count": 1,
     "metadata": {}
    },
    {
     "output_type": "execute_result",
     "data": {
      "text/plain": "------         --------\n"
     },
     "execution_count": 1,
     "metadata": {}
    },
    {
     "output_type": "execute_result",
     "data": {
      "text/plain": "Clean          00:00:00.0158845\n"
     },
     "execution_count": 1,
     "metadata": {}
    },
    {
     "output_type": "execute_result",
     "data": {
      "text/plain": "CleanDocs      00:00:00.0004334\n"
     },
     "execution_count": 1,
     "metadata": {}
    },
    {
     "output_type": "execute_result",
     "data": {
      "text/plain": "AssemblyInfo   00:00:00.0383665\n"
     },
     "execution_count": 1,
     "metadata": {}
    },
    {
     "output_type": "execute_result",
     "data": {
      "text/plain": "Build          00:00:14.9057551\n"
     },
     "execution_count": 1,
     "metadata": {}
    },
    {
     "output_type": "execute_result",
     "data": {
      "text/plain": "CopyBinaries   00:00:00.0623395\n"
     },
     "execution_count": 1,
     "metadata": {}
    },
    {
     "output_type": "execute_result",
     "data": {
      "text/plain": "BuildOnly      00:00:00.0002531\n"
     },
     "execution_count": 1,
     "metadata": {}
    },
    {
     "output_type": "execute_result",
     "data": {
      "text/plain": "Total:         00:00:15.2084173\n"
     },
     "execution_count": 1,
     "metadata": {}
    },
    {
     "output_type": "execute_result",
     "data": {
      "text/plain": "Status:        Ok\n"
     },
     "execution_count": 1,
     "metadata": {}
    },
    {
     "output_type": "execute_result",
     "data": {
      "text/plain": "---------------------------------------------------------------------\n"
     },
     "execution_count": 1,
     "metadata": {}
    },
    {
     "output_type": "execute_result",
     "data": {
      "text/plain": "Performance:\n"
     },
     "execution_count": 1,
     "metadata": {}
    },
    {
     "output_type": "execute_result",
     "data": {
      "text/plain": " - Cli parsing: 380 milliseconds\n"
     },
     "execution_count": 1,
     "metadata": {}
    },
    {
     "output_type": "execute_result",
     "data": {
      "text/plain": " - Packages: 73 milliseconds\n"
     },
     "execution_count": 1,
     "metadata": {}
    },
    {
     "output_type": "execute_result",
     "data": {
      "text/plain": " - Script analyzing: 29 milliseconds\n"
     },
     "execution_count": 1,
     "metadata": {}
    },
    {
     "output_type": "execute_result",
     "data": {
      "text/plain": " - Script running: 15 seconds\n"
     },
     "execution_count": 1,
     "metadata": {}
    },
    {
     "output_type": "execute_result",
     "data": {
      "text/plain": " - Script cleanup: 13 milliseconds\n"
     },
     "execution_count": 1,
     "metadata": {}
    },
    {
     "output_type": "execute_result",
     "data": {
      "text/plain": " - Runtime: 16 seconds\n"
     },
     "execution_count": 1,
     "metadata": {}
    },
    {
     "output_type": "execute_result",
     "data": {
      "text/plain": "Paket version 5.249.2\n"
     },
     "execution_count": 1,
     "metadata": {}
    },
    {
     "output_type": "execute_result",
     "data": {
      "text/plain": "Packaging: /home/gregor/source/repos/Plotly.NET/src/Plotly.NET.Interactive/paket.template\n"
     },
     "execution_count": 1,
     "metadata": {}
    },
    {
     "output_type": "execute_result",
     "data": {
      "text/plain": "Packaging: /home/gregor/source/repos/Plotly.NET/src/Plotly.NET/paket.template\n"
     },
     "execution_count": 1,
     "metadata": {}
    },
    {
     "output_type": "execute_result",
     "data": {
      "text/plain": "Wrote: /home/gregor/source/repos/Plotly.NET/pkg/Plotly.NET.Interactive.2.0.0-dev2.nupkg\n"
     },
     "execution_count": 1,
     "metadata": {}
    },
    {
     "output_type": "execute_result",
     "data": {
      "text/plain": "Wrote: /home/gregor/source/repos/Plotly.NET/pkg/Plotly.NET.2.0.0-dev2.nupkg\n"
     },
     "execution_count": 1,
     "metadata": {}
    },
    {
     "output_type": "execute_result",
     "data": {
      "text/plain": "Performance:\n"
     },
     "execution_count": 1,
     "metadata": {}
    },
    {
     "output_type": "execute_result",
     "data": {
      "text/plain": " - Runtime: 2 seconds\n"
     },
     "execution_count": 1,
     "metadata": {}
    },
    {
     "output_type": "execute_result",
     "data": {
      "text/plain": "Plotly.NET.2.0.0-dev2.nupkg\n"
     },
     "execution_count": 1,
     "metadata": {}
    },
    {
     "output_type": "execute_result",
     "data": {
      "text/plain": "Plotly.NET.Interactive.2.0.0-dev2.nupkg\n"
     },
     "execution_count": 1,
     "metadata": {}
    }
   ]
  },
  {
   "cell_type": "code",
   "execution_count": 1,
   "metadata": {},
   "source": [
    "#!fsharp\n",
    "// be advised, that you always should set absolute paths for local nuget packages - change this to reflect your own setup\n",
    "#i \"nuget: /path/to/your/project/Plotly.NET/pkg\"\n",
    "#r \"nuget: Plotly.NET, 2.0.0-dev2\"\n",
    "#r \"nuget: Plotly.NET.Interactive, 2.0.0-dev2\""
   ],
   "outputs": [
    {
     "output_type": "execute_result",
     "data": {
      "text/html": "<div><strong>Restore sources</strong><ul><li><span>https://pkgs.dev.azure.com/dnceng/public/_packaging/dotnet-tools/nuget/v3/index.json</span></li><li><span> /home/gregor/source/repos/Plotly.NET/pkg</span></li></ul></div>"
     },
     "execution_count": 1,
     "metadata": {}
    },
    {
     "output_type": "execute_result",
     "data": {
      "text/plain": "Installed package Plotly.NET.Interactive version 2.0.0-dev2"
     },
     "execution_count": 1,
     "metadata": {}
    },
    {
     "output_type": "execute_result",
     "data": {
      "text/plain": "Installed package Plotly.NET version 2.0.0-dev2"
     },
     "execution_count": 1,
     "metadata": {}
    },
    {
     "output_type": "execute_result",
     "data": {
      "text/plain": "Loaded Plotly.NET.Interactive.FormatterKernelExtension"
     },
     "execution_count": 1,
     "metadata": {}
    },
    {
     "output_type": "execute_result",
     "data": {
      "text/markdown": "Added Kernerl Extension including formatters for GenericChart"
     },
     "execution_count": 1,
     "metadata": {}
    }
   ]
  },
  {
   "cell_type": "code",
   "execution_count": 1,
   "metadata": {},
   "source": [
    "#!fsharp\n",
    "open Plotly.NET\n",
    "\n",
    "let xs = [ -20f..20f ]\n",
    "let ys = [ for x in xs do x ** 2f ]\n",
    "\n",
    "(xs, ys)\n",
    "||> List.zip\n",
    "|> Chart.Point"
   ],
   "outputs": [
    {
     "output_type": "execute_result",
     "data": {
      "text/html": "<div id=\"f853fa78-6062-4fc3-b068-1133bd7cedc3\" style=\"width: 600px; height: 600px;\"><!-- Plotly chart will be drawn inside this DIV --></div>\n<script type=\"text/javascript\">\n\n            var renderPlotly = function() {\n            var fsharpPlotlyRequire = requirejs.config({context:'fsharp-plotly',paths:{plotly:'https://cdn.plot.ly/plotly-latest.min'}}) || require;\n            fsharpPlotlyRequire(['plotly'], function(Plotly) {\n\n            var data = [{\"type\":\"scatter\",\"x\":[-20.0,-19.0,-18.0,-17.0,-16.0,-15.0,-14.0,-13.0,-12.0,-11.0,-10.0,-9.0,-8.0,-7.0,-6.0,-5.0,-4.0,-3.0,-2.0,-1.0,0.0,1.0,2.0,3.0,4.0,5.0,6.0,7.0,8.0,9.0,10.0,11.0,12.0,13.0,14.0,15.0,16.0,17.0,18.0,19.0,20.0],\"y\":[400.0,361.0,324.0,289.0,256.0,225.0,196.0,169.0,144.0,121.0,100.0,81.0,64.0,49.0,36.0,25.0,16.0,9.0,4.0,1.0,0.0,1.0,4.0,9.0,16.0,25.0,36.0,49.0,64.0,81.0,100.0,121.0,144.0,169.0,196.0,225.0,256.0,289.0,324.0,361.0,400.0],\"mode\":\"markers\",\"marker\":{}}];\n            var layout = {};\n            var config = {};\n            Plotly.newPlot('f853fa78-6062-4fc3-b068-1133bd7cedc3', data, layout, config);\n});\n            };\n            if ((typeof(requirejs) !==  typeof(Function)) || (typeof(requirejs.config) !== typeof(Function))) {\n                var script = document.createElement(\"script\");\n                script.setAttribute(\"src\", \"https://cdnjs.cloudflare.com/ajax/libs/require.js/2.3.6/require.min.js\");\n                script.onload = function(){\n                    renderPlotly();\n                };\n                document.getElementsByTagName(\"head\")[0].appendChild(script);\n            }\n            else {\n                renderPlotly();\n            }\n</script>\n"
     },
     "execution_count": 1,
     "metadata": {}
    }
   ]
  }
 ],
 "metadata": {
  "kernelspec": {
   "display_name": ".NET (C#)",
   "language": "C#",
   "name": ".net-csharp"
  },
  "language_info": {
   "file_extension": ".cs",
   "mimetype": "text/x-csharp",
   "name": "C#",
   "pygments_lexer": "csharp",
   "version": "8.0"
  }
 },
 "nbformat": 4,
 "nbformat_minor": 4
}